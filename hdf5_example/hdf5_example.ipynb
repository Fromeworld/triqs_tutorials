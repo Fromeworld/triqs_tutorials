{
 "cells": [
  {
   "cell_type": "code",
   "execution_count": 7,
   "metadata": {
    "ExecuteTime": {
     "end_time": "2019-05-12T20:57:20.789757Z",
     "start_time": "2019-05-12T20:57:20.786755Z"
    }
   },
   "outputs": [],
   "source": [
    "# http://docs.h5py.org/en/stable/quick.html\n",
    "import h5py"
   ]
  },
  {
   "cell_type": "code",
   "execution_count": 10,
   "metadata": {
    "ExecuteTime": {
     "end_time": "2019-05-12T20:57:29.446501Z",
     "start_time": "2019-05-12T20:57:29.439502Z"
    }
   },
   "outputs": [],
   "source": [
    "f = h5py.File('gf.h5', 'r')"
   ]
  },
  {
   "cell_type": "code",
   "execution_count": 15,
   "metadata": {
    "ExecuteTime": {
     "end_time": "2019-05-12T21:00:31.263344Z",
     "start_time": "2019-05-12T21:00:31.258345Z"
    }
   },
   "outputs": [
    {
     "data": {
      "text/plain": [
       "['g_iw']"
      ]
     },
     "execution_count": 15,
     "metadata": {},
     "output_type": "execute_result"
    }
   ],
   "source": [
    "list(f.keys())"
   ]
  },
  {
   "cell_type": "code",
   "execution_count": 17,
   "metadata": {
    "ExecuteTime": {
     "end_time": "2019-05-12T21:01:33.102972Z",
     "start_time": "2019-05-12T21:01:33.058701Z"
    }
   },
   "outputs": [
    {
     "name": "stdout",
     "output_type": "stream",
     "text": [
      "/                        Group\n",
      "/g_iw                    Group\n",
      "/g_iw/data               Dataset {2000, 1, 1, 2}\n",
      "/g_iw/indices            Group\n",
      "/g_iw/indices/left       Dataset {1}\n",
      "/g_iw/indices/right      Dataset {1}\n",
      "/g_iw/mesh               Group\n",
      "/g_iw/mesh/domain        Group\n",
      "/g_iw/mesh/domain/beta   Dataset {SCALAR}\n",
      "/g_iw/mesh/domain/statistic Dataset {SCALAR}\n",
      "/g_iw/mesh/positive_freq_only Dataset {SCALAR}\n",
      "/g_iw/mesh/size          Dataset {SCALAR}\n"
     ]
    }
   ],
   "source": [
    "!h5ls -r gf.h5"
   ]
  },
  {
   "cell_type": "code",
   "execution_count": null,
   "metadata": {},
   "outputs": [],
   "source": []
  }
 ],
 "metadata": {
  "hide_input": false,
  "kernelspec": {
   "display_name": "Python 3",
   "language": "python",
   "name": "python3"
  },
  "language_info": {
   "codemirror_mode": {
    "name": "ipython",
    "version": 3
   },
   "file_extension": ".py",
   "mimetype": "text/x-python",
   "name": "python",
   "nbconvert_exporter": "python",
   "pygments_lexer": "ipython3",
   "version": "3.7.2"
  }
 },
 "nbformat": 4,
 "nbformat_minor": 2
}
