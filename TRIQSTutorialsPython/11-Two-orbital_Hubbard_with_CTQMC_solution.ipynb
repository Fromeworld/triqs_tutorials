{
 "cells": [
  {
   "cell_type": "code",
   "execution_count": 1,
   "metadata": {
    "ExecuteTime": {
     "end_time": "2019-01-23T20:33:21.528061Z",
     "start_time": "2019-01-23T20:33:21.135346Z"
    },
    "run_control": {
     "frozen": false,
     "read_only": false
    }
   },
   "outputs": [],
   "source": [
    "from pytriqs.gf import *\n",
    "from pytriqs.archive import *\n",
    "from pytriqs.plot.mpl_interface import *\n",
    "import numpy as np\n",
    "%matplotlib inline\n",
    "import matplotlib as mpl\n",
    "mpl.rcParams['savefig.dpi']=100\n",
    "plt.rcParams['figure.figsize'] = (8.0,6.0)"
   ]
  },
  {
   "cell_type": "markdown",
   "metadata": {
    "run_control": {
     "frozen": false,
     "read_only": false
    }
   },
   "source": [
    "Solution of the exercises\n",
    "========================="
   ]
  },
  {
   "cell_type": "markdown",
   "metadata": {
    "run_control": {
     "frozen": false,
     "read_only": false
    }
   },
   "source": [
    "Solution of exercise 1\n",
    "----------------------\n",
    "\n",
    "The script below solves the two-orbital Hubbard model for a variety of filling, $U$ and $J$."
   ]
  },
  {
   "cell_type": "code",
   "execution_count": null,
   "metadata": {
    "ExecuteTime": {
     "start_time": "2019-01-23T20:18:53.041Z"
    },
    "code_folding": [],
    "run_control": {
     "frozen": false,
     "read_only": false
    }
   },
   "outputs": [
    {
     "name": "stderr",
     "output_type": "stream",
     "text": [
      "Starting run with 1 MPI rank(s) at : 2020-03-09 16:03:25.818777\n"
     ]
    },
    {
     "name": "stdout",
     "output_type": "stream",
     "text": [
      "\n",
      "\n",
      "Iteration = 1 / 10\n",
      "up-0 :  0.501666984984\n",
      "up-1 :  0.470360923522\n",
      "down-0 :  0.468129242843\n",
      "down-1 :  0.486875020629\n",
      "\n",
      "\n",
      "Iteration = 2 / 10\n",
      "up-0 :  0.486246552509\n",
      "up-1 :  0.477421782582\n",
      "down-0 :  0.506757296363\n",
      "down-1 :  0.486873707741\n",
      "\n",
      "\n",
      "Iteration = 3 / 10\n",
      "up-0 :  0.49575018986\n",
      "up-1 :  0.485285794603\n",
      "down-0 :  0.500978001217\n",
      "down-1 :  0.506984361159\n",
      "\n",
      "\n",
      "Iteration = 4 / 10\n",
      "up-0 :  0.498287769293\n",
      "up-1 :  0.502449889437\n",
      "down-0 :  0.522932052356\n",
      "down-1 :  0.511231512063\n",
      "\n",
      "\n",
      "Iteration = 5 / 10\n",
      "up-0 :  0.475525931198\n",
      "up-1 :  0.541553571107\n",
      "down-0 :  0.498645624863\n",
      "down-1 :  0.448788138844\n",
      "\n",
      "\n",
      "Iteration = 6 / 10\n",
      "up-0 :  0.511473299633\n",
      "up-1 :  0.527611535912\n",
      "down-0 :  0.484602356081\n",
      "down-1 :  0.488573207942\n",
      "\n",
      "\n",
      "Iteration = 7 / 10\n",
      "up-0 :  0.536161580708\n",
      "up-1 :  0.507443087407\n",
      "down-0 :  0.513035135764\n",
      "down-1 :  0.497110496056\n",
      "\n",
      "\n",
      "Iteration = 8 / 10\n",
      "up-0 :  0.512150164968\n",
      "up-1 :  0.506911488914\n",
      "down-0 :  0.545659590631\n",
      "down-1 :  0.528457003531\n",
      "\n",
      "\n",
      "Iteration = 9 / 10\n",
      "up-0 :  0.517256190714\n",
      "up-1 :  0.517298062633\n",
      "down-0 :  0.472480837744\n",
      "down-1 :  0.518530808132\n",
      "\n",
      "\n",
      "Iteration = 10 / 10\n",
      "up-0 :  0.53289542857\n",
      "up-1 :  0.519887682854\n",
      "down-0 :  0.491393921875\n",
      "down-1 :  0.509160888055\n",
      "\n",
      "\n",
      "Iteration = 1 / 10\n",
      "up-0 :  0.490306897094\n",
      "up-1 :  0.510666954994\n",
      "down-0 :  0.533517306003\n",
      "down-1 :  0.474341959891\n",
      "\n",
      "\n",
      "Iteration = 2 / 10\n",
      "up-0 :  0.483735351651\n",
      "up-1 :  0.461033359851\n",
      "down-0 :  0.506320359788\n",
      "down-1 :  0.464725473079\n",
      "\n",
      "\n",
      "Iteration = 3 / 10\n",
      "up-0 :  0.44998451692\n",
      "up-1 :  0.469567023774\n",
      "down-0 :  0.502819916964\n",
      "down-1 :  0.460994421051\n",
      "\n",
      "\n",
      "Iteration = 4 / 10\n",
      "up-0 :  0.478202392818\n",
      "up-1 :  0.5262993228\n",
      "down-0 :  0.547070540647\n",
      "down-1 :  0.443658886359\n",
      "\n",
      "\n",
      "Iteration = 5 / 10\n",
      "up-0 :  0.496752484211\n",
      "up-1 :  0.543550342598\n",
      "down-0 :  0.514687214612\n",
      "down-1 :  0.473062617945\n",
      "\n",
      "\n",
      "Iteration = 6 / 10\n",
      "up-0 :  0.496192468695\n",
      "up-1 :  0.472873964008\n",
      "down-0 :  0.455686051078\n",
      "down-1 :  0.495380986744\n",
      "\n",
      "\n",
      "Iteration = 7 / 10\n",
      "up-0 :  0.479960945542\n",
      "up-1 :  0.475507191582\n",
      "down-0 :  0.517723215237\n",
      "down-1 :  0.506954295878\n",
      "\n",
      "\n",
      "Iteration = 8 / 10\n",
      "up-0 :  0.512383220122\n",
      "up-1 :  0.467024596357\n",
      "down-0 :  0.566764605192\n",
      "down-1 :  0.491242231757\n",
      "\n",
      "\n",
      "Iteration = 9 / 10\n",
      "up-0 :  0.53972200532\n",
      "up-1 :  0.490044254788\n",
      "down-0 :  0.49787277871\n",
      "down-1 :  0.473201240886\n",
      "\n",
      "\n",
      "Iteration = 10 / 10\n",
      "up-0 :  0.397946139535\n",
      "up-1 :  0.485455948281\n",
      "down-0 :  0.476840847008\n",
      "down-1 :  0.517073113583\n",
      "\n",
      "\n",
      "Iteration = 1 / 10\n",
      "up-0 :  0.474270542976\n",
      "up-1 :  0.487259296527\n",
      "down-0 :  0.460992837867\n",
      "down-1 :  0.514124645879\n",
      "\n",
      "\n",
      "Iteration = 2 / 10\n",
      "up-0 :  0.536876207338\n",
      "up-1 :  0.481604222465\n",
      "down-0 :  0.474902169139\n",
      "down-1 :  0.54674994881\n",
      "\n",
      "\n",
      "Iteration = 3 / 10\n",
      "up-0 :  0.441630803071\n",
      "up-1 :  0.481816687204\n",
      "down-0 :  0.511353802787\n",
      "down-1 :  0.475393794209\n",
      "\n",
      "\n",
      "Iteration = 4 / 10\n",
      "up-0 :  0.502734375559\n",
      "up-1 :  0.529370769942\n",
      "down-0 :  0.478699968263\n",
      "down-1 :  0.477535366686\n",
      "\n",
      "\n",
      "Iteration = 5 / 10\n",
      "up-0 :  0.533294210371\n",
      "up-1 :  0.469126880509\n",
      "down-0 :  0.49403689354\n",
      "down-1 :  0.518842333129\n",
      "\n",
      "\n",
      "Iteration = 6 / 10\n",
      "up-0 :  0.534032635927\n",
      "up-1 :  0.523886084535\n",
      "down-0 :  0.507590401637\n",
      "down-1 :  0.551467532474\n",
      "\n",
      "\n",
      "Iteration = 7 / 10\n",
      "up-0 :  0.50596546979\n",
      "up-1 :  0.493885048088\n",
      "down-0 :  0.474885714199\n",
      "down-1 :  0.47129590063\n",
      "\n",
      "\n",
      "Iteration = 8 / 10\n",
      "up-0 :  0.547703056091\n",
      "up-1 :  0.523832536031\n",
      "down-0 :  0.48240266648\n",
      "down-1 :  0.413322825973\n",
      "\n",
      "\n",
      "Iteration = 9 / 10\n",
      "up-0 :  0.52241251847\n",
      "up-1 :  0.508478916532\n",
      "down-0 :  0.506371609893\n",
      "down-1 :  0.52180280595\n",
      "\n",
      "\n",
      "Iteration = 10 / 10\n",
      "up-0 :  0.507153269452\n",
      "up-1 :  0.451663342421\n",
      "down-0 :  0.524316685025\n",
      "down-1 :  0.504307671981\n",
      "\n",
      "\n",
      "Iteration = 1 / 10\n",
      "up-0 :  0.46374264177\n",
      "up-1 :  0.528948487937\n",
      "down-0 :  0.532162208081\n",
      "down-1 :  0.513469781125\n",
      "\n",
      "\n",
      "Iteration = 2 / 10\n",
      "up-0 :  0.54042079213\n",
      "up-1 :  0.477493597079\n",
      "down-0 :  0.534049417422\n",
      "down-1 :  0.50596925657\n",
      "\n",
      "\n",
      "Iteration = 3 / 10\n",
      "up-0 :  0.528521535731\n",
      "up-1 :  0.521580267498\n",
      "down-0 :  0.4808799404\n",
      "down-1 :  0.485720144785\n",
      "\n",
      "\n",
      "Iteration = 4 / 10\n",
      "up-0 :  0.481066130281\n",
      "up-1 :  0.50588626744\n",
      "down-0 :  0.515042674811\n",
      "down-1 :  0.533558453709\n",
      "\n",
      "\n",
      "Iteration = 5 / 10\n",
      "up-0 :  0.473682884507\n",
      "up-1 :  0.555192273628\n",
      "down-0 :  0.501845939311\n",
      "down-1 :  0.462157793491\n",
      "\n",
      "\n",
      "Iteration = 6 / 10\n",
      "up-0 :  0.529716720655\n",
      "up-1 :  0.486595847093\n",
      "down-0 :  0.528476416891\n",
      "down-1 :  0.493463010725\n",
      "\n",
      "\n",
      "Iteration = 7 / 10\n",
      "up-0 :  0.474822168069\n",
      "up-1 :  0.511097939871\n",
      "down-0 :  0.529216044883\n",
      "down-1 :  0.482026938354\n",
      "\n",
      "\n",
      "Iteration = 8 / 10\n",
      "up-0 :  0.459849163181\n",
      "up-1 :  0.490744360939\n",
      "down-0 :  0.485813089583\n",
      "down-1 :  0.529942440792\n",
      "\n",
      "\n",
      "Iteration = 9 / 10\n",
      "up-0 :  0.519968465193\n",
      "up-1 :  0.45145844689\n",
      "down-0 :  0.419224067544\n",
      "down-1 :  0.491967049732\n",
      "\n",
      "\n",
      "Iteration = 10 / 10\n",
      "up-0 :  0.479143614881\n",
      "up-1 :  0.491768208866\n",
      "down-0 :  0.484553202242\n",
      "down-1 :  0.509219198655\n",
      "\n",
      "\n",
      "Iteration = 1 / 10\n",
      "up-0 :  0.514366784953\n",
      "up-1 :  0.488028654834\n",
      "down-0 :  0.494712330892\n",
      "down-1 :  0.520742094072\n",
      "\n",
      "\n",
      "Iteration = 2 / 10\n",
      "up-0 :  0.544152050825\n",
      "up-1 :  0.491379935599\n",
      "down-0 :  0.590871040559\n",
      "down-1 :  0.511414902678\n",
      "\n",
      "\n",
      "Iteration = 3 / 10\n",
      "up-0 :  0.502471005978\n",
      "up-1 :  0.496068966002\n",
      "down-0 :  0.504167843987\n",
      "down-1 :  0.523351118909\n",
      "\n",
      "\n",
      "Iteration = 4 / 10\n",
      "up-0 :  0.466767148234\n",
      "up-1 :  0.502061784989\n",
      "down-0 :  0.493560716883\n",
      "down-1 :  0.486720869216\n",
      "\n",
      "\n",
      "Iteration = 5 / 10\n",
      "up-0 :  0.386168397021\n",
      "up-1 :  0.532818678583\n",
      "down-0 :  0.567742773111\n",
      "down-1 :  0.5304479705\n",
      "\n",
      "\n",
      "Iteration = 6 / 10\n",
      "up-0 :  0.414600028815\n",
      "up-1 :  0.409171475915\n",
      "down-0 :  0.498004868728\n",
      "down-1 :  0.537041237753\n",
      "\n",
      "\n",
      "Iteration = 7 / 10\n",
      "up-0 :  0.513238120616\n",
      "up-1 :  0.544785698935\n",
      "down-0 :  0.496901077093\n",
      "down-1 :  0.510598688974\n",
      "\n",
      "\n",
      "Iteration = 8 / 10\n",
      "up-0 :  0.474339734247\n",
      "up-1 :  0.512239627946\n",
      "down-0 :  0.476270859067\n",
      "down-1 :  0.50280870675\n",
      "\n",
      "\n",
      "Iteration = 9 / 10\n",
      "up-0 :  0.506062615181\n",
      "up-1 :  0.437924471408\n",
      "down-0 :  0.482536348899\n",
      "down-1 :  0.526334980299\n",
      "\n",
      "\n",
      "Iteration = 10 / 10\n",
      "up-0 :  0.500734776101\n",
      "up-1 :  0.504343058246\n",
      "down-0 :  0.530158909127\n",
      "down-1 :  0.472407436665\n",
      "\n",
      "\n",
      "Iteration = 1 / 10\n",
      "up-0 :  0.454321778161\n",
      "up-1 :  0.520749794839\n",
      "down-0 :  0.496841290653\n",
      "down-1 :  0.551182058268\n",
      "\n",
      "\n",
      "Iteration = 2 / 10\n",
      "up-0 :  0.460102297339\n",
      "up-1 :  0.488399534173\n",
      "down-0 :  0.494253321486\n",
      "down-1 :  0.46311576457\n",
      "\n",
      "\n",
      "Iteration = 3 / 10\n",
      "up-0 :  0.458974938047\n",
      "up-1 :  0.488284757355\n",
      "down-0 :  0.491614042147\n",
      "down-1 :  0.517242172997\n",
      "\n",
      "\n",
      "Iteration = 4 / 10\n",
      "up-0 :  0.428611318589\n",
      "up-1 :  0.473098047269\n",
      "down-0 :  0.443479254906\n",
      "down-1 :  0.550804768332\n",
      "\n",
      "\n",
      "Iteration = 5 / 10\n",
      "up-0 :  0.483773175553\n",
      "up-1 :  0.467818524631\n",
      "down-0 :  0.493061423981\n",
      "down-1 :  0.504137368454\n",
      "\n",
      "\n",
      "Iteration = 6 / 10\n",
      "up-0 :  0.477871949172\n",
      "up-1 :  0.464389987665\n",
      "down-0 :  0.48840510489\n",
      "down-1 :  0.477476490325\n",
      "\n",
      "\n",
      "Iteration = 7 / 10\n",
      "up-0 :  0.489600897392\n",
      "up-1 :  0.477061235389\n",
      "down-0 :  0.549126529345\n",
      "down-1 :  0.498909890361\n",
      "\n",
      "\n",
      "Iteration = 8 / 10\n",
      "up-0 :  0.452526953156\n",
      "up-1 :  0.529380599234\n",
      "down-0 :  0.484181334737\n",
      "down-1 :  0.532368079839\n",
      "\n",
      "\n",
      "Iteration = 9 / 10\n",
      "up-0 :  0.47464944924\n",
      "up-1 :  0.535167464834\n",
      "down-0 :  0.397288437734\n",
      "down-1 :  0.57136992672\n",
      "\n",
      "\n",
      "Iteration = 10 / 10\n",
      "up-0 :  0.507072140832\n",
      "up-1 :  0.47830416445\n",
      "down-0 :  0.451413824998\n",
      "down-1 :  0.55797369391\n",
      "\n",
      "\n",
      "Iteration = 1 / 10\n",
      "up-0 :  0.50419447571\n",
      "up-1 :  0.509970125911\n",
      "down-0 :  0.520564331184\n",
      "down-1 :  0.520126111272\n",
      "\n",
      "\n",
      "Iteration = 2 / 10\n",
      "up-0 :  0.509624312996\n",
      "up-1 :  0.494971502878\n",
      "down-0 :  0.57809315045\n",
      "down-1 :  0.585169918195\n",
      "\n",
      "\n",
      "Iteration = 3 / 10\n",
      "up-0 :  0.524222980822\n",
      "up-1 :  0.547763707659\n",
      "down-0 :  0.554500494848\n",
      "down-1 :  0.502430513941\n",
      "\n",
      "\n",
      "Iteration = 4 / 10\n",
      "up-0 :  0.431513639895\n",
      "up-1 :  0.509150662377\n",
      "down-0 :  0.464958755624\n",
      "down-1 :  0.497072531152\n",
      "\n",
      "\n",
      "Iteration = 5 / 10\n",
      "up-0 :  0.455627564516\n",
      "up-1 :  0.503023327005\n",
      "down-0 :  0.465727082906\n",
      "down-1 :  0.511371853976\n",
      "\n",
      "\n",
      "Iteration = 6 / 10\n",
      "up-0 :  0.429885711346\n",
      "up-1 :  0.501492269302\n",
      "down-0 :  0.524390500864\n",
      "down-1 :  0.483680716534\n",
      "\n",
      "\n",
      "Iteration = 7 / 10\n",
      "up-0 :  0.452871194542\n",
      "up-1 :  0.541062370367\n",
      "down-0 :  0.544083127116\n",
      "down-1 :  0.552566211458\n",
      "\n",
      "\n",
      "Iteration = 8 / 10\n",
      "up-0 :  0.491859366738\n",
      "up-1 :  0.469297673289\n",
      "down-0 :  0.523754617539\n",
      "down-1 :  0.571719984708\n",
      "\n",
      "\n",
      "Iteration = 9 / 10\n",
      "up-0 :  0.391754469743\n",
      "up-1 :  0.4727693525\n",
      "down-0 :  0.521965901426\n",
      "down-1 :  0.514284395835\n",
      "\n",
      "\n",
      "Iteration = 10 / 10\n",
      "up-0 :  0.409469208895\n",
      "up-1 :  0.535096084141\n",
      "down-0 :  0.577518447176\n",
      "down-1 :  0.512033803605\n",
      "\n",
      "\n",
      "Iteration = 1 / 10\n",
      "up-0 :  0.466853383322\n",
      "up-1 :  0.493543251114\n",
      "down-0 :  0.48779167115\n",
      "down-1 :  0.539919508271\n"
     ]
    },
    {
     "name": "stdout",
     "output_type": "stream",
     "text": [
      "\n",
      "\n",
      "Iteration = 2 / 10\n",
      "up-0 :  0.57053283676\n",
      "up-1 :  0.484802121307\n",
      "down-0 :  0.513525760384\n",
      "down-1 :  0.573682697146\n",
      "\n",
      "\n",
      "Iteration = 3 / 10\n",
      "up-0 :  0.43727686645\n",
      "up-1 :  0.526065549812\n",
      "down-0 :  0.471185857057\n",
      "down-1 :  0.566996288678\n",
      "\n",
      "\n",
      "Iteration = 4 / 10\n",
      "up-0 :  0.463507916321\n",
      "up-1 :  0.476883356774\n",
      "down-0 :  0.534311651247\n",
      "down-1 :  0.512560892389\n",
      "\n",
      "\n",
      "Iteration = 5 / 10\n",
      "up-0 :  0.508714569692\n",
      "up-1 :  0.461909897163\n",
      "down-0 :  0.544989672209\n",
      "down-1 :  0.478989639961\n",
      "\n",
      "\n",
      "Iteration = 6 / 10\n",
      "up-0 :  0.531706061338\n",
      "up-1 :  0.516216460299\n",
      "down-0 :  0.578274802905\n",
      "down-1 :  0.458967911258\n",
      "\n",
      "\n",
      "Iteration = 7 / 10\n",
      "up-0 :  0.4943843724\n",
      "up-1 :  0.490287063656\n",
      "down-0 :  0.513923753007\n",
      "down-1 :  0.525287348341\n",
      "\n",
      "\n",
      "Iteration = 8 / 10\n",
      "up-0 :  0.445167490219\n",
      "up-1 :  0.520832828666\n",
      "down-0 :  0.532852905031\n",
      "down-1 :  0.519964317525\n",
      "\n",
      "\n",
      "Iteration = 9 / 10\n",
      "up-0 :  0.50178126293\n",
      "up-1 :  0.548076345031\n",
      "down-0 :  0.513072504689\n",
      "down-1 :  0.581845415285\n",
      "\n",
      "\n",
      "Iteration = 10 / 10\n",
      "up-0 :  0.443476478753\n",
      "up-1 :  0.518231442234\n",
      "down-0 :  0.485827995615\n",
      "down-1 :  0.559303836906\n",
      "\n",
      "\n",
      "Iteration = 1 / 10\n",
      "up-0 :  0.437592185517\n",
      "up-1 :  0.472648317944\n",
      "down-0 :  0.459340055908\n",
      "down-1 :  0.54826131692\n",
      "\n",
      "\n",
      "Iteration = 2 / 10\n",
      "up-0 :  0.487561946437\n",
      "up-1 :  0.514090336883\n",
      "down-0 :  0.548645620835\n",
      "down-1 :  0.579068106631\n",
      "\n",
      "\n",
      "Iteration = 3 / 10\n",
      "up-0 :  0.550300420822\n",
      "up-1 :  0.504538821413\n",
      "down-0 :  0.563640255316\n",
      "down-1 :  0.506049448051\n",
      "\n",
      "\n",
      "Iteration = 4 / 10\n",
      "up-0 :  0.401255638108\n",
      "up-1 :  0.506273601137\n",
      "down-0 :  0.517650589369\n",
      "down-1 :  0.551331440708\n",
      "\n",
      "\n",
      "Iteration = 5 / 10\n",
      "up-0 :  0.453426204801\n",
      "up-1 :  0.476833972872\n",
      "down-0 :  0.5642665659\n",
      "down-1 :  0.543685705641\n",
      "\n",
      "\n",
      "Iteration = 6 / 10\n",
      "up-0 :  0.502921620224\n",
      "up-1 :  0.463882906698\n",
      "down-0 :  0.488258338869\n",
      "down-1 :  0.437311238621\n",
      "\n",
      "\n",
      "Iteration = 7 / 10\n",
      "up-0 :  0.42497125017\n",
      "up-1 :  0.470110409424\n",
      "down-0 :  0.498767771205\n",
      "down-1 :  0.459399320832\n",
      "\n",
      "\n",
      "Iteration = 8 / 10\n",
      "up-0 :  0.44241447823\n",
      "up-1 :  0.494871182251\n",
      "down-0 :  0.524188118835\n",
      "down-1 :  0.540086751186\n",
      "\n",
      "\n",
      "Iteration = 9 / 10\n",
      "up-0 :  0.404150103994\n",
      "up-1 :  0.459186221499\n",
      "down-0 :  0.583484206143\n",
      "down-1 :  0.500014491784\n",
      "\n",
      "\n",
      "Iteration = 10 / 10\n",
      "up-0 :  0.443790338624\n",
      "up-1 :  0.53919043386\n",
      "down-0 :  0.578571817974\n",
      "down-1 :  0.498157606841\n",
      "\n",
      "\n",
      "Iteration = 1 / 10\n",
      "up-0 :  0.496215487368\n",
      "up-1 :  0.525656874903\n",
      "down-0 :  0.449446736781\n",
      "down-1 :  0.479157148841\n",
      "\n",
      "\n",
      "Iteration = 2 / 10\n",
      "up-0 :  0.484445337321\n",
      "up-1 :  0.478281085616\n",
      "down-0 :  0.486216225692\n",
      "down-1 :  0.432888414938\n",
      "\n",
      "\n",
      "Iteration = 3 / 10\n",
      "up-0 :  0.41021642236\n",
      "up-1 :  0.492567199547\n",
      "down-0 :  0.584397845872\n",
      "down-1 :  0.536864018608\n",
      "\n",
      "\n",
      "Iteration = 4 / 10\n",
      "up-0 :  0.438101216167\n",
      "up-1 :  0.481165623613\n",
      "down-0 :  0.528162023524\n",
      "down-1 :  0.569877094428\n",
      "\n",
      "\n",
      "Iteration = 5 / 10\n",
      "up-0 :  0.476286510207\n",
      "up-1 :  0.545118018985\n",
      "down-0 :  0.549111289157\n",
      "down-1 :  0.552008117438\n",
      "\n",
      "\n",
      "Iteration = 6 / 10\n",
      "up-0 :  0.437156530113\n",
      "up-1 :  0.507303534945\n",
      "down-0 :  0.608758619827\n",
      "down-1 :  0.488796691988\n",
      "\n",
      "\n",
      "Iteration = 7 / 10\n",
      "up-0 :  0.425169158869\n",
      "up-1 :  0.521498215354\n",
      "down-0 :  0.566745761655\n",
      "down-1 :  0.55669906239\n",
      "\n",
      "\n",
      "Iteration = 8 / 10\n",
      "up-0 :  0.44154882677\n",
      "up-1 :  0.49098908382\n",
      "down-0 :  0.59275840182\n",
      "down-1 :  0.50326924666\n",
      "\n",
      "\n",
      "Iteration = 9 / 10\n",
      "up-0 :  0.436160671759\n",
      "up-1 :  0.493252979098\n",
      "down-0 :  0.558721568833\n",
      "down-1 :  0.537320719835\n",
      "\n",
      "\n",
      "Iteration = 10 / 10\n",
      "up-0 :  0.509462318804\n",
      "up-1 :  0.499266918786\n",
      "down-0 :  0.527582318969\n",
      "down-1 :  0.534454815884\n",
      "\n",
      "\n",
      "Iteration = 1 / 10\n",
      "up-0 :  0.499427722327\n",
      "up-1 :  0.56007463455\n",
      "down-0 :  0.494563482664\n",
      "down-1 :  0.513166893312\n",
      "\n",
      "\n",
      "Iteration = 2 / 10\n",
      "up-0 :  0.38802667838\n",
      "up-1 :  0.405685677155\n",
      "down-0 :  0.559657834544\n",
      "down-1 :  0.505398396353\n",
      "\n",
      "\n",
      "Iteration = 3 / 10\n",
      "up-0 :  0.477575071003\n",
      "up-1 :  0.466163949341\n",
      "down-0 :  0.554570407755\n",
      "down-1 :  0.51019235526\n",
      "\n",
      "\n",
      "Iteration = 4 / 10\n",
      "up-0 :  0.475060066762\n",
      "up-1 :  0.473449530258\n",
      "down-0 :  0.603461947294\n",
      "down-1 :  0.490206656578\n",
      "\n",
      "\n",
      "Iteration = 5 / 10\n",
      "up-0 :  0.503256893873\n",
      "up-1 :  0.457099503722\n",
      "down-0 :  0.606164017144\n",
      "down-1 :  0.485421992119\n",
      "\n",
      "\n",
      "Iteration = 6 / 10\n",
      "up-0 :  0.491153228718\n",
      "up-1 :  0.467236921617\n",
      "down-0 :  0.562287521901\n",
      "down-1 :  0.493393554143\n",
      "\n",
      "\n",
      "Iteration = 7 / 10\n",
      "up-0 :  0.491730959357\n",
      "up-1 :  0.485335190509\n",
      "down-0 :  0.536662916938\n",
      "down-1 :  0.511651261527\n",
      "\n",
      "\n",
      "Iteration = 8 / 10\n",
      "up-0 :  0.441542203907\n",
      "up-1 :  0.438857978875\n",
      "down-0 :  0.53657085931\n",
      "down-1 :  0.507716210625\n",
      "\n",
      "\n",
      "Iteration = 9 / 10\n",
      "up-0 :  0.450330621699\n",
      "up-1 :  0.48205405279\n",
      "down-0 :  0.54769168218\n",
      "down-1 :  0.562475416605\n",
      "\n",
      "\n",
      "Iteration = 10 / 10\n",
      "up-0 :  0.484677500638\n",
      "up-1 :  0.451905999179\n",
      "down-0 :  0.526803550765\n",
      "down-1 :  0.517202208077\n",
      "\n",
      "\n",
      "Iteration = 1 / 10\n",
      "up-0 :  0.399877013591\n",
      "up-1 :  0.535308578147\n",
      "down-0 :  0.519774088428\n",
      "down-1 :  0.523029107526\n",
      "\n",
      "\n",
      "Iteration = 2 / 10\n",
      "up-0 :  0.452704801403\n",
      "up-1 :  0.487894163548\n",
      "down-0 :  0.50996548712\n",
      "down-1 :  0.46735720684\n",
      "\n",
      "\n",
      "Iteration = 3 / 10\n",
      "up-0 :  0.478891211237\n",
      "up-1 :  0.433792485324\n",
      "down-0 :  0.522806053814\n",
      "down-1 :  0.527175044012\n",
      "\n",
      "\n",
      "Iteration = 4 / 10\n",
      "up-0 :  0.490234747479\n",
      "up-1 :  0.438388662835\n",
      "down-0 :  0.465801392012\n",
      "down-1 :  0.510540645816\n",
      "\n",
      "\n",
      "Iteration = 5 / 10\n",
      "up-0 :  0.503047734294\n",
      "up-1 :  0.463434557986\n",
      "down-0 :  0.527030443631\n",
      "down-1 :  0.515269753887\n",
      "\n",
      "\n",
      "Iteration = 6 / 10\n",
      "up-0 :  0.525872129654\n",
      "up-1 :  0.449037874591\n",
      "down-0 :  0.521796025175\n",
      "down-1 :  0.560943467613\n",
      "\n",
      "\n",
      "Iteration = 7 / 10\n",
      "up-0 :  0.540470068927\n",
      "up-1 :  0.469422418037\n",
      "down-0 :  0.578974679451\n",
      "down-1 :  0.522974367152\n",
      "\n",
      "\n",
      "Iteration = 8 / 10\n",
      "up-0 :  0.48833633459\n",
      "up-1 :  0.472727300652\n",
      "down-0 :  0.514318435896\n",
      "down-1 :  0.505566976924\n",
      "\n",
      "\n",
      "Iteration = 9 / 10\n",
      "up-0 :  0.499105229734\n",
      "up-1 :  0.475409736467\n",
      "down-0 :  0.460125391548\n",
      "down-1 :  0.551547795957\n",
      "\n",
      "\n",
      "Iteration = 10 / 10\n",
      "up-0 :  0.475130626218\n",
      "up-1 :  0.432050374551\n",
      "down-0 :  0.500253361867\n",
      "down-1 :  0.506806869934\n",
      "\n",
      "\n",
      "Iteration = 1 / 10\n",
      "up-0 :  0.521349731958\n",
      "up-1 :  0.518433540433\n",
      "down-0 :  0.481489426022\n",
      "down-1 :  0.517522578522\n",
      "\n",
      "\n",
      "Iteration = 2 / 10\n",
      "up-0 :  0.47895503132\n",
      "up-1 :  0.511875368694\n",
      "down-0 :  0.490127674955\n",
      "down-1 :  0.494408518792\n",
      "\n",
      "\n",
      "Iteration = 3 / 10\n",
      "up-0 :  0.51749624738\n",
      "up-1 :  0.507898451556\n",
      "down-0 :  0.483364621008\n",
      "down-1 :  0.5400843309\n",
      "\n",
      "\n",
      "Iteration = 4 / 10\n",
      "up-0 :  0.514633653967\n",
      "up-1 :  0.508306146122\n",
      "down-0 :  0.516265075222\n",
      "down-1 :  0.52593750425\n",
      "\n",
      "\n",
      "Iteration = 5 / 10\n",
      "up-0 :  0.513281170186\n",
      "up-1 :  0.495714941245\n",
      "down-0 :  0.499583286454\n",
      "down-1 :  0.477507942801\n"
     ]
    }
   ],
   "source": [
    "# %load run_two_bands.py\n",
    "from pytriqs.gf import *\n",
    "from pytriqs.operators import *\n",
    "from pytriqs.archive import *\n",
    "from triqs_cthyb import Solver\n",
    "from itertools import product\n",
    "import numpy as np\n",
    "\n",
    "import os\n",
    "if not os.path.exists('results_two_bands'):\n",
    "    os.makedirs('results_two_bands')\n",
    "\n",
    "# Parameters of the model\n",
    "t = 1.0\n",
    "beta = 10.0\n",
    "n_loops = 10\n",
    "filling = 'half' # or 'quarter'\n",
    "n_orbitals = 2\n",
    "\n",
    "# Construct the solver\n",
    "S = Solver(beta = beta, gf_struct = [('up-0',[0]), ('up-1',[0]), ('down-0',[0]), ('down-1',[0])] )\n",
    "\n",
    "for coeff in [0.0, 0.1, 0.2]:\n",
    "\n",
    "    # Run for several values of U\n",
    "    for U in np.arange(1.0, 13.0, 1.0):\n",
    "\n",
    "        J = coeff * U\n",
    "\n",
    "        # Expression of mu for half and quarter filling\n",
    "        if filling == 'half':\n",
    "            mu = 0.5*U + 0.5*(U-2*J) + 0.5*(U-3*J)\n",
    "        elif filling == 'quarter':\n",
    "            mu = -0.81 + (0.6899-1.1099*coeff)*U + (-0.02548+0.02709*coeff-0.1606*coeff**2)*U**2\n",
    "\n",
    "        # Set the interacting Kanamori hamiltonian\n",
    "        h_int = Operator()\n",
    "        for o in range(0,n_orbitals):\n",
    "            h_int += U*n('up-%s'%o,0)*n('down-%s'%o,0)\n",
    "        for o1,o2 in product(range(0,n_orbitals),range(0,n_orbitals)):\n",
    "            if o1==o2: continue\n",
    "            h_int += (U-2*J)*n('up-%s'%o1,0)*n('down-%s'%o2,0)\n",
    "        for o1,o2 in product(range(0,n_orbitals),range(0,n_orbitals)):\n",
    "            if o2>=o1: continue;\n",
    "            h_int += (U-3*J)*n('up-%s'%o1,0)*n('up-%s'%o2,0)\n",
    "            h_int += (U-3*J)*n('down-%s'%o1,0)*n('down-%s'%o2,0)\n",
    "        for o1,o2 in product(range(0,n_orbitals),range(0,n_orbitals)):\n",
    "            if o1==o2: continue\n",
    "            h_int += -J*c_dag('up-%s'%o1,0)*c_dag('down-%s'%o1,0)*c('up-%s'%o2,0)*c('down-%s'%o2,0)\n",
    "            h_int += -J*c_dag('up-%s'%o1,0)*c_dag('down-%s'%o2,0)*c('up-%s'%o2,0)*c('down-%s'%o1,0)\n",
    "\n",
    "        # This is a first guess for G\n",
    "        S.G0_iw << inverse(iOmega_n + mu - t**2 * SemiCircular(2*t))\n",
    "\n",
    "        # DMFT loop with self-consistency\n",
    "        for i in range(n_loops):\n",
    "\n",
    "            print \"\\n\\nIteration = %i / %i\" % (i+1, n_loops)\n",
    "\n",
    "            # Symmetrize the Green's function and use self-consistency\n",
    "            if i > 0:\n",
    "                g = 0.25 * ( S.G_iw['up-0'] + S.G_iw['up-1'] + S.G_iw['down-0'] + S.G_iw['down-1'] )\n",
    "                for name, g0 in S.G0_iw:\n",
    "                    g0 << inverse(iOmega_n + mu - t**2 * g)\n",
    "\n",
    "            # Solve the impurity problem\n",
    "            S.solve(h_int = h_int,\n",
    "                    n_cycles  = 30000,\n",
    "                    length_cycle = 100,\n",
    "                    n_warmup_cycles = 5000)\n",
    "\n",
    "            # Check density\n",
    "            for name, g in S.G_iw:\n",
    "                print name, \": \",g.density()[0,0].real\n",
    "\n",
    "            # Save iteration in archive\n",
    "            with HDFArchive(\"results_two_bands/%s-U%.2f-J%.2f.h5\"%(filling,U,J)) as A:\n",
    "                A['G-%i'%i] = S.G_iw\n",
    "                A['Sigma-%i'%i] = S.Sigma_iw\n"
   ]
  },
  {
   "cell_type": "markdown",
   "metadata": {
    "run_control": {
     "frozen": false,
     "read_only": false
    }
   },
   "source": [
    "Solution of exercise 2\n",
    "----------------------\n",
    "\n",
    "The solution of the exercise is in the script called `run_two_bands.py` in the tutorial directory.\n",
    "The script was run from the shell to see the Monte Carlo progress. As you can see in the script, the Green's functions and self-energies are saved in archives. These archives are in the `results_two_bands` subdirectory. Here is a plot of\n",
    "the Green's functions for different values of $U$ at given $J$'s."
   ]
  },
  {
   "cell_type": "markdown",
   "metadata": {
    "run_control": {
     "frozen": false,
     "read_only": false
    }
   },
   "source": [
    "### J = 0.0\n",
    "\n",
    "You will see that the Mott transition is somewhere between 6.0 and 7.0."
   ]
  },
  {
   "cell_type": "code",
   "execution_count": 3,
   "metadata": {
    "ExecuteTime": {
     "end_time": "2019-01-23T20:33:24.765319Z",
     "start_time": "2019-01-23T20:33:24.224166Z"
    },
    "code_folding": [],
    "run_control": {
     "frozen": false,
     "read_only": false
    }
   },
   "outputs": [
    {
     "data": {
      "text/plain": [
       "(0, 10)"
      ]
     },
     "execution_count": 3,
     "metadata": {},
     "output_type": "execute_result"
    },
    {
     "data": {
      "image/png": "[encoded data removed]",
      "text/plain": [
       "<matplotlib.figure.Figure at 0x7fb046c769d0>"
      ]
     },
     "metadata": {
      "needs_background": "light"
     },
     "output_type": "display_data"
    }
   ],
   "source": [
    "coeff = 0.0\n",
    "for U in np.arange(1.0, 13.0):\n",
    "\n",
    "    J = coeff * U\n",
    "    A = HDFArchive(\"results_two_bands/half-U%.2f-J%.2f.h5\"%(U,J), 'r')\n",
    "    oplot(A['G-9']['up-0'].imag, 'o', name=\"U = %.2f\"%U)\n",
    "\n",
    "plt.xlim(0,10)"
   ]
  },
  {
   "cell_type": "markdown",
   "metadata": {
    "run_control": {
     "frozen": false,
     "read_only": false
    }
   },
   "source": [
    "### J = 0.1 U\n",
    "\n",
    "You will see that the Mott transition is somewhere between 4.0 and 5.0."
   ]
  },
  {
   "cell_type": "code",
   "execution_count": 4,
   "metadata": {
    "ExecuteTime": {
     "end_time": "2019-01-23T20:33:41.070117Z",
     "start_time": "2019-01-23T20:33:40.694753Z"
    },
    "run_control": {
     "frozen": false,
     "read_only": false
    }
   },
   "outputs": [
    {
     "data": {
      "text/plain": [
       "(0, 10)"
      ]
     },
     "execution_count": 4,
     "metadata": {},
     "output_type": "execute_result"
    },
    {
     "data": {
      "image/png": "[encoded data removed]",
      "text/plain": [
       "<matplotlib.figure.Figure at 0x7fb006c67dd0>"
      ]
     },
     "metadata": {
      "needs_background": "light"
     },
     "output_type": "display_data"
    }
   ],
   "source": [
    "coeff = 0.1\n",
    "for U in np.arange(1.0, 13.0):\n",
    "\n",
    "    J = coeff * U\n",
    "    A = HDFArchive(\"results_two_bands/half-U%.2f-J%.2f.h5\"%(U,J), 'r')\n",
    "    oplot(A['G-9']['up-0'].imag, 'o', name=\"U = %.2f\"%U)\n",
    "\n",
    "plt.xlim(0,10)"
   ]
  },
  {
   "cell_type": "markdown",
   "metadata": {
    "run_control": {
     "frozen": false,
     "read_only": false
    }
   },
   "source": [
    "### J = 0.2 U\n",
    "\n",
    "You will see that the Mott transition is somewhere between 3.0 and 4.0."
   ]
  },
  {
   "cell_type": "code",
   "execution_count": 5,
   "metadata": {
    "ExecuteTime": {
     "end_time": "2019-01-23T20:33:45.611909Z",
     "start_time": "2019-01-23T20:33:45.196917Z"
    },
    "run_control": {
     "frozen": false,
     "read_only": false
    }
   },
   "outputs": [
    {
     "data": {
      "text/plain": [
       "(0, 10)"
      ]
     },
     "execution_count": 5,
     "metadata": {},
     "output_type": "execute_result"
    },
    {
     "data": {
      "image/png": "[encoded data removed]",
      "text/plain": [
       "<matplotlib.figure.Figure at 0x7fb006d5cc90>"
      ]
     },
     "metadata": {
      "needs_background": "light"
     },
     "output_type": "display_data"
    }
   ],
   "source": [
    "coeff = 0.2\n",
    "for U in np.arange(1.0, 13.0):\n",
    "\n",
    "    J = coeff * U\n",
    "    A = HDFArchive(\"results_two_bands/half-U%.2f-J%.2f.h5\"%(U,J), 'r')\n",
    "    oplot(A['G-9']['up-0'].imag, 'o', name=\"U = %.2f\"%U)\n",
    "\n",
    "plt.xlim(0,10)"
   ]
  },
  {
   "cell_type": "markdown",
   "metadata": {
    "run_control": {
     "frozen": false,
     "read_only": false
    }
   },
   "source": [
    "### Conclusion of Exercise 2\n",
    "\n",
    "The value of $U_c$ is decreasing with increasing values of $J$! Can you understand why?"
   ]
  },
  {
   "cell_type": "markdown",
   "metadata": {
    "run_control": {
     "frozen": false,
     "read_only": false
    }
   },
   "source": [
    "Solution of exercise 3\n",
    "----------------------\n",
    "\n",
    "The solution of the exercise is again the script called `run_two_bands.py` in the tutorial directory.\n",
    "You will have to change `filling = 'quarter'`. The generated archives are in the `results` subdirectory. Here is a plot of\n",
    "the Green's functions for different values of $U$ at given $J$'s."
   ]
  },
  {
   "cell_type": "markdown",
   "metadata": {
    "run_control": {
     "frozen": false,
     "read_only": false
    }
   },
   "source": [
    "### J = 0.0\n",
    "\n",
    "You will se that the Mott transition is somewhere between 5.0 and 6.0."
   ]
  },
  {
   "cell_type": "code",
   "execution_count": 6,
   "metadata": {
    "ExecuteTime": {
     "end_time": "2019-01-23T20:33:55.058032Z",
     "start_time": "2019-01-23T20:33:54.733566Z"
    },
    "run_control": {
     "frozen": false,
     "read_only": false
    }
   },
   "outputs": [
    {
     "data": {
      "text/plain": [
       "(0, 10)"
      ]
     },
     "execution_count": 6,
     "metadata": {},
     "output_type": "execute_result"
    },
    {
     "data": {
      "image/png": "[encoded data removed]",
      "text/plain": [
       "<matplotlib.figure.Figure at 0x7fb0031805d0>"
      ]
     },
     "metadata": {
      "needs_background": "light"
     },
     "output_type": "display_data"
    }
   ],
   "source": [
    "coeff = 0.0\n",
    "for U in np.arange(1.0, 13.0):\n",
    "\n",
    "    J = coeff * U\n",
    "    A = HDFArchive(\"results_two_bands/quarter-U%.2f-J%.2f.h5\"%(U,J), 'r')\n",
    "    oplot(A['G-9']['up-0'].imag, 'o', name=\"U = %.2f\"%U)\n",
    "\n",
    "plt.xlim(0,10)"
   ]
  },
  {
   "cell_type": "markdown",
   "metadata": {
    "run_control": {
     "frozen": false,
     "read_only": false
    }
   },
   "source": [
    "### J = 0.1 U\n",
    "\n",
    "You will see that the Mott transition is somewhere between 7.0 and 8.0."
   ]
  },
  {
   "cell_type": "code",
   "execution_count": 7,
   "metadata": {
    "ExecuteTime": {
     "end_time": "2019-01-23T20:33:56.658029Z",
     "start_time": "2019-01-23T20:33:56.324732Z"
    },
    "run_control": {
     "frozen": false,
     "read_only": false
    }
   },
   "outputs": [
    {
     "data": {
      "text/plain": [
       "(0, 10)"
      ]
     },
     "execution_count": 7,
     "metadata": {},
     "output_type": "execute_result"
    },
    {
     "data": {
      "image/png": "[encoded data removed]",
      "text/plain": [
       "<matplotlib.figure.Figure at 0x7fb006cd3790>"
      ]
     },
     "metadata": {
      "needs_background": "light"
     },
     "output_type": "display_data"
    }
   ],
   "source": [
    "coeff = 0.1\n",
    "for U in np.arange(1.0, 13.0):\n",
    "\n",
    "    J = coeff * U\n",
    "    A = HDFArchive(\"results_two_bands/quarter-U%.2f-J%.2f.h5\"%(U,J), 'r')\n",
    "    oplot(A['G-9']['up-0'].imag, 'o', name=\"U = %.2f\"%U)\n",
    "\n",
    "plt.xlim(0,10)"
   ]
  },
  {
   "cell_type": "markdown",
   "metadata": {
    "run_control": {
     "frozen": false,
     "read_only": false
    }
   },
   "source": [
    "### J = 0.2 U\n",
    "\n",
    "You will see that the Mott transition happens at values of $U$ larger than 12."
   ]
  },
  {
   "cell_type": "code",
   "execution_count": 8,
   "metadata": {
    "ExecuteTime": {
     "end_time": "2019-01-23T20:33:58.525084Z",
     "start_time": "2019-01-23T20:33:58.140617Z"
    },
    "run_control": {
     "frozen": false,
     "read_only": false
    }
   },
   "outputs": [
    {
     "data": {
      "text/plain": [
       "(0, 10)"
      ]
     },
     "execution_count": 8,
     "metadata": {},
     "output_type": "execute_result"
    },
    {
     "data": {
      "image/png": "[encoded data removed]",
      "text/plain": [
       "<matplotlib.figure.Figure at 0x7fb006c519d0>"
      ]
     },
     "metadata": {
      "needs_background": "light"
     },
     "output_type": "display_data"
    }
   ],
   "source": [
    "coeff = 0.2\n",
    "for U in np.arange(1.0, 13.0):\n",
    "\n",
    "    J = coeff * U\n",
    "    A = HDFArchive(\"results_two_bands/quarter-U%.2f-J%.2f.h5\"%(U,J), 'r')\n",
    "    oplot(A['G-9']['up-0'].imag, 'o', name=\"U = %.2f\"%U)\n",
    "\n",
    "plt.xlim(0,10)"
   ]
  },
  {
   "cell_type": "markdown",
   "metadata": {
    "run_control": {
     "frozen": false,
     "read_only": false
    }
   },
   "source": [
    "### Conclusion of Exercise 3\n",
    "\n",
    "Now the value of $U_c$ is increasing with increasing values of $J$! Why?"
   ]
  },
  {
   "cell_type": "code",
   "execution_count": null,
   "metadata": {},
   "outputs": [],
   "source": []
  }
 ],
 "metadata": {
  "hide_input": false,
  "kernelspec": {
   "display_name": "Python 2",
   "language": "python",
   "name": "python2"
  },
  "language_info": {
   "codemirror_mode": {
    "name": "ipython",
    "version": 2
   },
   "file_extension": ".py",
   "mimetype": "text/x-python",
   "name": "python",
   "nbconvert_exporter": "python",
   "pygments_lexer": "ipython2",
   "version": "2.7.15+"
  },
  "latex_envs": {
   "LaTeX_envs_menu_present": true,
   "autoclose": false,
   "autocomplete": true,
   "bibliofile": "biblio.bib",
   "cite_by": "apalike",
   "current_citInitial": 1,
   "eqLabelWithNumbers": true,
   "eqNumInitial": 1,
   "hotkeys": {
    "equation": "Ctrl-E",
    "itemize": "Ctrl-I"
   },
   "labels_anchors": false,
   "latex_user_defs": false,
   "report_style_numbering": false,
   "user_envs_cfg": false
  },
  "widgets": {
   "state": {},
   "version": "1.1.1"
  }
 },
 "nbformat": 4,
 "nbformat_minor": 1
}
