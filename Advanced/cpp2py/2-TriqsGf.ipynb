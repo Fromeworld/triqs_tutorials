{
 "cells": [
  {
   "cell_type": "code",
   "execution_count": 1,
   "metadata": {
    "ExecuteTime": {
     "end_time": "2019-05-12T20:53:18.154334Z",
     "start_time": "2019-05-12T20:53:18.037335Z"
    }
   },
   "outputs": [
    {
     "data": {
      "application/javascript": [
       "\n",
       "require(['notebook/js/codecell'], function(codecell) {\n",
       "  codecell.CodeCell.options_default.highlight_modes['text/x-c++src'] = {'reg':[/^%%cpp2py/]};\n",
       "  Jupyter.notebook.events.one('kernel_ready.Kernel', function(){\n",
       "      Jupyter.notebook.get_cells().map(function(cell){\n",
       "          if (cell.cell_type == 'code'){ cell.auto_highlight(); } }) ;\n",
       "  });\n",
       "});\n"
      ]
     },
     "metadata": {},
     "output_type": "display_data"
    }
   ],
   "source": [
    "%reload_ext cpp2py.magic"
   ]
  },
  {
   "cell_type": "markdown",
   "metadata": {},
   "source": [
    "# Manipulate the TRIQS Green function"
   ]
  },
  {
   "cell_type": "code",
   "execution_count": 2,
   "metadata": {},
   "outputs": [],
   "source": [
    "%%cpp2py -C pytriqs             \n",
    "#include <triqs/gfs.hpp>\n",
    "using namespace triqs;\n",
    "using namespace triqs::gfs;\n",
    "        \n",
    "gf<imfreq> demo(double beta) {\n",
    "\n",
    " int n_freq = 1000;\n",
    "\n",
    " clef::placeholder<0> iw_;\n",
    "\n",
    " // Construction of a 1x1 matrix-valued fermionic gf on Matsubara frequencies.\n",
    " auto g_iw = gf<imfreq>{{beta, Fermion, n_freq}, {1, 1}};\n",
    "\n",
    " // Automatic placeholder evaluation\n",
    " g_iw(iw_) << 1 / (iw_ + 2);\n",
    "    \n",
    "\n",
    " // Writing the Green's functions into an HDF5 file.\n",
    " auto f = h5::file(\"gf.h5\", 'w');\n",
    " h5_write(f, \"g_iw\", g_iw);\n",
    "\n",
    " return g_iw;\n",
    "}"
   ]
  },
  {
   "cell_type": "markdown",
   "metadata": {},
   "source": [
    "Let us try it ..."
   ]
  },
  {
   "cell_type": "code",
   "execution_count": 3,
   "metadata": {},
   "outputs": [
    {
     "name": "stdout",
     "output_type": "stream",
     "text": [
      "rm: cannot remove 'gf.h5': No such file or directory\r\n"
     ]
    }
   ],
   "source": [
    "!rm gf.h5\n",
    "g = demo(10.0)"
   ]
  },
  {
   "cell_type": "code",
   "execution_count": 5,
   "metadata": {
    "ExecuteTime": {
     "end_time": "2019-05-12T20:53:23.990997Z",
     "start_time": "2019-05-12T20:53:23.903062Z"
    }
   },
   "outputs": [
    {
     "name": "stdout",
     "output_type": "stream",
     "text": [
      "/                        Group\r\n",
      "/g_iw                    Group\r\n",
      "/g_iw/data               Dataset {2000, 1, 1, 2}\r\n",
      "/g_iw/indices            Group\r\n",
      "/g_iw/indices/left       Dataset {1}\r\n",
      "/g_iw/indices/right      Dataset {1}\r\n",
      "/g_iw/mesh               Group\r\n",
      "/g_iw/mesh/domain        Group\r\n",
      "/g_iw/mesh/domain/beta   Dataset {SCALAR}\r\n",
      "/g_iw/mesh/domain/statistic Dataset {SCALAR}\r\n",
      "/g_iw/mesh/positive_freq_only Dataset {SCALAR}\r\n",
      "/g_iw/mesh/size          Dataset {SCALAR}\r\n"
     ]
    }
   ],
   "source": [
    "!h5ls -r gf.h5"
   ]
  },
  {
   "cell_type": "code",
   "execution_count": 12,
   "metadata": {
    "scrolled": true
   },
   "outputs": [
    {
     "data": {
      "text/plain": [
       "(0, 20)"
      ]
     },
     "execution_count": 12,
     "metadata": {},
     "output_type": "execute_result"
    },
    {
     "data": {
      "image/png": "[encoded data removed]",
      "text/plain": [
       "<matplotlib.figure.Figure at 0x7f38af4c55d0>"
      ]
     },
     "metadata": {
      "needs_background": "light"
     },
     "output_type": "display_data"
    }
   ],
   "source": [
    "from pytriqs.gf import *\n",
    "from pytriqs.archive import *\n",
    "from pytriqs.plot.mpl_interface import oplot, oplotr\n",
    "import matplotlib.pyplot as plt\n",
    "%matplotlib inline\n",
    "#with HDFArchive(\"gf.h5\",'r') as A:  # Open file\n",
    "#  oplot(A['g_iw'], '-o')\n",
    "oplot(demo(30), '-p')\n",
    "plt.xlim(0,20)"
   ]
  },
  {
   "cell_type": "code",
   "execution_count": 13,
   "metadata": {},
   "outputs": [
    {
     "data": {
      "text/plain": [
       "Green Function  with mesh Matsubara Freq Mesh of size 2000, Domain: Matsubara domain with beta = 30, statistic = Fermion, positive_only : 0 and target_rank 2: "
      ]
     },
     "execution_count": 13,
     "metadata": {},
     "output_type": "execute_result"
    }
   ],
   "source": [
    "demo(30)"
   ]
  },
  {
   "cell_type": "code",
   "execution_count": null,
   "metadata": {},
   "outputs": [],
   "source": []
  }
 ],
 "metadata": {
  "hide_input": false,
  "kernelspec": {
   "display_name": "Python 2",
   "language": "python",
   "name": "python2"
  },
  "language_info": {
   "codemirror_mode": {
    "name": "ipython",
    "version": 2
   },
   "file_extension": ".py",
   "mimetype": "text/x-python",
   "name": "python",
   "nbconvert_exporter": "python",
   "pygments_lexer": "ipython2",
   "version": "2.7.15rc1"
  },
  "latex_envs": {
   "LaTeX_envs_menu_present": true,
   "autocomplete": true,
   "bibliofile": "biblio.bib",
   "cite_by": "apalike",
   "current_citInitial": 1,
   "eqLabelWithNumbers": true,
   "eqNumInitial": 0,
   "hotkeys": {
    "equation": "Ctrl-E",
    "itemize": "Ctrl-I"
   },
   "labels_anchors": false,
   "latex_user_defs": false,
   "report_style_numbering": false,
   "user_envs_cfg": false
  },
  "nav_menu": {},
  "toc": {
   "navigate_menu": true,
   "number_sections": true,
   "sideBar": true,
   "threshold": 6,
   "toc_cell": false,
   "toc_section_display": "block",
   "toc_window_display": false
  },
  "widgets": {
   "state": {},
   "version": "1.1.2"
  }
 },
 "nbformat": 4,
 "nbformat_minor": 1
}
